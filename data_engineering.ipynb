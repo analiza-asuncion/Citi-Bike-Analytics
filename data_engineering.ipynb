
# Add dependencies
import glob
import pandas as pd

# glob.glob('data*.csv') - returns List[str]
# pd.read_csv(f) - returns pd.DataFrame()
# for f in glob.glob() - returns a List[DataFrames]
# pd.concat() - returns one pd.DataFrame()
clean_data_ridership = pd.concat([pd.read_csv(f) for f in glob.glob('raw_data/CitiBikeDailyRidershipandMembershipData/*.csv')], ignore_index = True)
clean_data_trip = pd.concat([pd.read_csv(f) for f in glob.glob('raw_data/CitiBikeTripHistories/*.csv')], ignore_index = True)

clean_data_ridership.head()

clean_data_ridership.count()

clean_data_trip.head()

clean_data_trip.count()

# Export to csv
clean_data_ridership.to_csv("clean_data/clean_quarter_data_2017.csv")
clean_data_trip.to_csv("clean_data/clean_data_2017.csv")